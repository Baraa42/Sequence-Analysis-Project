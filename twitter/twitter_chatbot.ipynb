{
  "cells": [
    {
      "cell_type": "markdown",
      "source": [
        "# Imports"
      ],
      "metadata": {
        "id": "uWUkTC5n3yRA"
      },
      "id": "uWUkTC5n3yRA"
    },
    {
      "cell_type": "code",
      "execution_count": null,
      "metadata": {
        "id": "XzzaxTNVgSQa"
      },
      "outputs": [],
      "source": [
        "import nltk\n",
        "from nltk.tokenize import word_tokenize\n",
        "\n",
        "import sys, re, os\n",
        "import string, unicodedata\n",
        "import numpy as np\n",
        "import pandas as pd\n",
        "import matplotlib.pyplot as plt\n",
        "\n",
        "import torch\n",
        "import torch.nn as nn\n",
        "from torch.utils import data\n",
        "\n",
        "import random\n",
        "from datetime import datetime"
      ],
      "id": "XzzaxTNVgSQa"
    },
    {
      "cell_type": "code",
      "execution_count": null,
      "metadata": {
        "colab": {
          "base_uri": "https://localhost:8080/"
        },
        "id": "KT_YT-G0gWpA",
        "outputId": "17219633-e1b8-4549-de79-7bff41ec20c2"
      },
      "outputs": [
        {
          "output_type": "stream",
          "name": "stdout",
          "text": [
            "[nltk_data] Downloading package punkt to /root/nltk_data...\n",
            "[nltk_data]   Unzipping tokenizers/punkt.zip.\n"
          ]
        },
        {
          "output_type": "execute_result",
          "data": {
            "text/plain": [
              "True"
            ]
          },
          "metadata": {},
          "execution_count": 4
        }
      ],
      "source": [
        "nltk.download('punkt')"
      ],
      "id": "KT_YT-G0gWpA"
    },
    {
      "cell_type": "markdown",
      "source": [
        "# Google drive and Config"
      ],
      "metadata": {
        "id": "Fsgqjlhp33c9"
      },
      "id": "Fsgqjlhp33c9"
    },
    {
      "cell_type": "code",
      "execution_count": null,
      "metadata": {
        "colab": {
          "base_uri": "https://localhost:8080/"
        },
        "id": "2O8V4NPrgY3n",
        "outputId": "5c69b62f-8a80-48d9-cf90-bbc441fbe685"
      },
      "outputs": [
        {
          "output_type": "stream",
          "name": "stdout",
          "text": [
            "Mounted at /content/drive\n"
          ]
        }
      ],
      "source": [
        "from google.colab import drive\n",
        "drive.mount('/content/drive')"
      ],
      "id": "2O8V4NPrgY3n"
    },
    {
      "cell_type": "code",
      "execution_count": null,
      "metadata": {
        "id": "kSMgGn7vgdfK"
      },
      "outputs": [],
      "source": [
        "drive_path = \"/content/drive/MyDrive/Sequence-Analysis-Projects\"\n",
        "twitter_path = os.path.join(drive_path, 'twitter-chatbot')\n",
        "if not os.path.exists(drive_path):\n",
        "    os.mkdir(drive_path)\n",
        "\n",
        "projects = ['translation', 'twitter-chatbot']\n",
        "for project in projects:\n",
        "    project_path = os.path.join(drive_path, project)\n",
        "    if not os.path.exists(project_path):\n",
        "        os.mkdir(project_path)"
      ],
      "id": "kSMgGn7vgdfK"
    },
    {
      "cell_type": "code",
      "execution_count": null,
      "metadata": {
        "id": "9df92808"
      },
      "outputs": [],
      "source": [
        "# some configuration\n",
        "MAX_SEQUENCE_LENGTH = 100\n",
        "MAX_NUM_WORDS = 20_000\n",
        "NUM_SAMPLES = 10_000\n",
        "EMBEDDING_DIM = 200\n",
        "VALIDATION_SPLIT = 0.2\n",
        "BATCH_SIZE = 64\n",
        "EPOCHS = 100\n",
        "LATENT_DIM = 512\n",
        "\n",
        "bos = \"<bos>\"\n",
        "eos = \"<eos>\"\n",
        "pad = \"<pad>\"\n",
        "unk = \"<unk>\""
      ],
      "id": "9df92808"
    },
    {
      "cell_type": "markdown",
      "source": [
        "# Utils"
      ],
      "metadata": {
        "id": "nRQKfwWR34nb"
      },
      "id": "nRQKfwWR34nb"
    },
    {
      "cell_type": "code",
      "execution_count": null,
      "metadata": {
        "id": "BnB-1DAEgpZ-"
      },
      "outputs": [],
      "source": [
        "# Turn a Unicode string to plain ASCII, thanks to\n",
        "# https://stackoverflow.com/a/518232/2809427\n",
        "def unicodeToAscii(s):\n",
        "    return ''.join(\n",
        "        c for c in unicodedata.normalize('NFD', s)\n",
        "        if unicodedata.category(c) != 'Mn'\n",
        "    )"
      ],
      "id": "BnB-1DAEgpZ-"
    },
    {
      "cell_type": "code",
      "execution_count": null,
      "metadata": {
        "id": "j4_-pfwmgsBo"
      },
      "outputs": [],
      "source": [
        "def normalizeString(s):\n",
        "    s = unicodeToAscii(s.lower().strip())\n",
        "    s = re.sub(r\"([.!?])\", r\" \\1\", s)\n",
        "    s = re.sub(r\"[^a-zA-Z.!?]+\", r\" \", s)\n",
        "    return s"
      ],
      "id": "j4_-pfwmgsBo"
    },
    {
      "cell_type": "markdown",
      "source": [
        "# Original Text Preprocessing"
      ],
      "metadata": {
        "id": "nq8DeF9e38o9"
      },
      "id": "nq8DeF9e38o9"
    },
    {
      "cell_type": "code",
      "execution_count": null,
      "metadata": {
        "colab": {
          "base_uri": "https://localhost:8080/"
        },
        "id": "RFg0M62Sgt0K",
        "outputId": "1e9a6ed4-66fb-48f4-b5d0-231f6dc1ea88"
      },
      "outputs": [
        {
          "output_type": "stream",
          "name": "stdout",
          "text": [
            "num samples: 8490\n"
          ]
        }
      ],
      "source": [
        "# load in the data\n",
        "input_texts = []  # sentence in original language\n",
        "target_texts = []  # sentence in target language\n",
        "#target_text_inputs = []  #  sentence in target language offset by 1\n",
        "t = 0\n",
        "for line in open(os.path.join(twitter_path, \"twitter_tab_format.txt\")):\n",
        "    # only keep a limited number of samples\n",
        "    t += 1\n",
        "    if t > NUM_SAMPLES:\n",
        "        break\n",
        "    line = line.rstrip()\n",
        "    # input and targets are separeted by tab\n",
        "    if \"\\t\" not in line:\n",
        "        continue\n",
        "\n",
        "    # split up the input and translation\n",
        "    input_text, target_text = line.split(\"\\t\")[:2]\n",
        "\n",
        "    input_text, target_text = normalizeString(input_text), normalizeString(target_text)\n",
        "  \n",
        "    #target_text_input = \"<sos> \" + translation\n",
        "\n",
        "    input_texts.append(input_text)\n",
        "    target_texts.append(target_text)\n",
        "    #target_text_inputs.append(target_text_input)\n",
        "print(\"num samples:\", len(input_texts))"
      ],
      "id": "RFg0M62Sgt0K"
    },
    {
      "cell_type": "markdown",
      "source": [
        "# Build Vocab"
      ],
      "metadata": {
        "id": "BHr2jp8w4AmX"
      },
      "id": "BHr2jp8w4AmX"
    },
    {
      "cell_type": "code",
      "execution_count": null,
      "metadata": {
        "id": "n83RaQ2KhIU6"
      },
      "outputs": [],
      "source": [
        "def build_vocab(data):\n",
        "    vocab = []\n",
        "    for sentence in data:\n",
        "        sentence_tokenized = word_tokenize(sentence)\n",
        "        for word in sentence_tokenized:\n",
        "            if word not in vocab:\n",
        "                vocab.append(word)\n",
        "\n",
        "    return vocab"
      ],
      "id": "n83RaQ2KhIU6"
    },
    {
      "cell_type": "code",
      "execution_count": null,
      "metadata": {
        "colab": {
          "base_uri": "https://localhost:8080/"
        },
        "id": "0N0TsuuPhI_M",
        "outputId": "bfd43ffa-efcd-420b-9a11-290603992d2a"
      },
      "outputs": [
        {
          "output_type": "stream",
          "name": "stdout",
          "text": [
            "There is 9571 token in english_vocab\n"
          ]
        }
      ],
      "source": [
        "english_vocab = build_vocab(input_texts)\n",
        "#english_vocab = build_vocab(train_inputs)\n",
        "print(f\"There is {len(english_vocab)} token in english_vocab\")"
      ],
      "id": "0N0TsuuPhI_M"
    },
    {
      "cell_type": "code",
      "execution_count": null,
      "metadata": {
        "id": "Z1TsYYoShMnG"
      },
      "outputs": [],
      "source": [
        "english_vocab = [pad, unk, bos, eos] + english_vocab\n"
      ],
      "id": "Z1TsYYoShMnG"
    },
    {
      "cell_type": "code",
      "execution_count": null,
      "metadata": {
        "id": "8riR5a7shP5r"
      },
      "outputs": [],
      "source": [
        "word2idx_eng = {}\n",
        "for i in range(len(english_vocab)):\n",
        "    word2idx_eng[english_vocab[i]] = i\n",
        "\n",
        "# map indexes back into real words\n",
        "# so wwe can view the results\n",
        "idx2word_eng = {v: w for w, v in word2idx_eng.items()}\n"
      ],
      "id": "8riR5a7shP5r"
    },
    {
      "cell_type": "code",
      "execution_count": null,
      "metadata": {
        "id": "f-FIaPfjheCo"
      },
      "outputs": [],
      "source": [
        "def build_sequences(texts, word2idx):\n",
        "    sequences = []\n",
        "    for sentence in texts:\n",
        "        sequence = []\n",
        "        sentence_tokenized = word_tokenize(sentence)\n",
        "        for token in sentence_tokenized:\n",
        "            if token in word2idx.keys():\n",
        "                sequence.append(word2idx[token])\n",
        "            else:\n",
        "                sequence.append(word2idx[unk])\n",
        "        sequences.append(sequence)\n",
        "    return sequences\n"
      ],
      "id": "f-FIaPfjheCo"
    },
    {
      "cell_type": "markdown",
      "metadata": {
        "id": "pGxy-0OJ9Wj6"
      },
      "source": [
        "# Build train/test set"
      ],
      "id": "pGxy-0OJ9Wj6"
    },
    {
      "cell_type": "code",
      "execution_count": null,
      "metadata": {
        "colab": {
          "base_uri": "https://localhost:8080/"
        },
        "id": "tkF5vMnq9Z0D",
        "outputId": "eb3b7493-816b-41ad-9cf1-6d6b07ea4c11"
      },
      "outputs": [
        {
          "output_type": "stream",
          "name": "stdout",
          "text": [
            "len(train_inputs): 6792\n",
            "len(test_inputs): 1698\n"
          ]
        }
      ],
      "source": [
        "N = len(input_texts)\n",
        "indices = np.random.permutation(N)\n",
        "\n",
        "N_train = 4 * N // 5\n",
        "\n",
        "train_indices = list(indices[:N_train])\n",
        "test_indices = list(indices[N_train:])\n",
        "\n",
        "train_inputs = [input_texts[i] for i in train_indices]\n",
        "train_targets = [target_texts[i] for i in train_indices]\n",
        "\n",
        "test_inputs = [input_texts[i] for i in test_indices]\n",
        "test_targets = [target_texts[i] for i in test_indices]\n",
        "\n",
        "\n",
        "print(\"len(train_inputs):\", len(train_inputs))\n",
        "print(\"len(test_inputs):\", len(test_inputs))"
      ],
      "id": "tkF5vMnq9Z0D"
    },
    {
      "cell_type": "code",
      "execution_count": null,
      "metadata": {
        "id": "P0utsgNGBZmQ",
        "colab": {
          "base_uri": "https://localhost:8080/"
        },
        "outputId": "a5195b53-245d-469a-a737-7469dcb74ff0"
      },
      "outputs": [
        {
          "output_type": "stream",
          "name": "stdout",
          "text": [
            "len(input_sequences_train): 6792\n",
            "len(input_sequences_test): 1698\n"
          ]
        }
      ],
      "source": [
        "#input_sequences = build_sequences(input_texts, word2idx_eng)\n",
        "#target_sequences = build_sequences(target_texts, word2idx_eng)\n",
        "\n",
        "input_sequences_train = build_sequences(train_inputs, word2idx_eng)\n",
        "target_sequences_train = build_sequences(train_targets, word2idx_eng)\n",
        "\n",
        "input_sequences_test = build_sequences(test_inputs, word2idx_eng)\n",
        "target_sequences_test = build_sequences(test_targets, word2idx_eng)\n",
        "\n",
        "print(\"len(input_sequences_train):\", len(input_sequences_train))\n",
        "print(\"len(input_sequences_test):\", len(input_sequences_test))\n",
        "\n",
        "#print(\"len(input_sequences):\", len(input_sequences))\n",
        "#print(\"len(target_sequences):\", len(target_sequences))"
      ],
      "id": "P0utsgNGBZmQ"
    },
    {
      "cell_type": "code",
      "execution_count": null,
      "metadata": {
        "id": "sD_t-rtJhpVc"
      },
      "outputs": [],
      "source": [
        "bos_idx = word2idx_eng[bos]\n",
        "eos_idx = word2idx_eng[eos]\n",
        "#input_sequences = [[bos_idx] + sequence + [eos_idx] for sequence in input_sequences]\n",
        "# target_sequences_inputs = [[bos_idx] + sequence for sequence in target_sequences]\n",
        "# target_sequences = [sequence + [eos_idx] for sequence in target_sequences]\n",
        "\n",
        "target_sequences_train_inputs = [[bos_idx] + sequence for sequence in target_sequences_train]\n",
        "target_sequences_train = [sequence + [eos_idx] for sequence in target_sequences_train]\n",
        "\n",
        "\n",
        "target_sequences_test_inputs = [[bos_idx] + sequence for sequence in target_sequences_test]\n",
        "target_sequences_test = [sequence + [eos_idx] for sequence in target_sequences_test]"
      ],
      "id": "sD_t-rtJhpVc"
    },
    {
      "cell_type": "code",
      "execution_count": null,
      "metadata": {
        "colab": {
          "base_uri": "https://localhost:8080/"
        },
        "id": "RoGoi3AYhw5c",
        "outputId": "45e95f25-9cd2-445d-8857-457c71f5b32e"
      },
      "outputs": [
        {
          "output_type": "stream",
          "name": "stdout",
          "text": [
            "max_len_input: 43\n"
          ]
        }
      ],
      "source": [
        "#max_len_input = max(len(s) for s in input_sequences)\n",
        "max_len_input = max(len(s) for s in input_sequences_train)\n",
        "\n",
        "print(\"max_len_input:\", max_len_input)"
      ],
      "id": "RoGoi3AYhw5c"
    },
    {
      "cell_type": "code",
      "execution_count": null,
      "metadata": {
        "colab": {
          "base_uri": "https://localhost:8080/"
        },
        "id": "jeGj2265h1MC",
        "outputId": "cecf3a1f-9b3b-45ca-eb7e-93b7e20e5251"
      },
      "outputs": [
        {
          "output_type": "stream",
          "name": "stdout",
          "text": [
            "max_len_target: 38\n"
          ]
        }
      ],
      "source": [
        "max_len_target = max(len(s) for s in target_sequences_train)\n",
        "#max_len_target = max(len(s) for s in target_sequences)\n",
        "\n",
        "print(\"max_len_target:\", max_len_target)"
      ],
      "id": "jeGj2265h1MC"
    },
    {
      "cell_type": "markdown",
      "source": [
        "# Loading Pre trained embedding"
      ],
      "metadata": {
        "id": "U5H5PvPw4JKZ"
      },
      "id": "U5H5PvPw4JKZ"
    },
    {
      "cell_type": "code",
      "execution_count": null,
      "metadata": {
        "colab": {
          "base_uri": "https://localhost:8080/"
        },
        "id": "1tHJo_q4iYQ1",
        "outputId": "e97eb906-8f83-42fd-fff7-be721495e25e"
      },
      "outputs": [
        {
          "output_type": "stream",
          "name": "stdout",
          "text": [
            "--2022-05-01 15:46:01--  http://nlp.stanford.edu/data/glove.6B.zip\n",
            "Resolving nlp.stanford.edu (nlp.stanford.edu)... 171.64.67.140\n",
            "Connecting to nlp.stanford.edu (nlp.stanford.edu)|171.64.67.140|:80... connected.\n",
            "HTTP request sent, awaiting response... 302 Found\n",
            "Location: https://nlp.stanford.edu/data/glove.6B.zip [following]\n",
            "--2022-05-01 15:46:01--  https://nlp.stanford.edu/data/glove.6B.zip\n",
            "Connecting to nlp.stanford.edu (nlp.stanford.edu)|171.64.67.140|:443... connected.\n",
            "HTTP request sent, awaiting response... 301 Moved Permanently\n",
            "Location: http://downloads.cs.stanford.edu/nlp/data/glove.6B.zip [following]\n",
            "--2022-05-01 15:46:01--  http://downloads.cs.stanford.edu/nlp/data/glove.6B.zip\n",
            "Resolving downloads.cs.stanford.edu (downloads.cs.stanford.edu)... 171.64.64.22\n",
            "Connecting to downloads.cs.stanford.edu (downloads.cs.stanford.edu)|171.64.64.22|:80... connected.\n",
            "HTTP request sent, awaiting response... 200 OK\n",
            "Length: 862182613 (822M) [application/zip]\n",
            "Saving to: ‘glove.6B.zip’\n",
            "\n",
            "glove.6B.zip        100%[===================>] 822.24M  5.07MB/s    in 2m 40s  \n",
            "\n",
            "2022-05-01 15:48:42 (5.13 MB/s) - ‘glove.6B.zip’ saved [862182613/862182613]\n",
            "\n"
          ]
        }
      ],
      "source": [
        "!wget http://nlp.stanford.edu/data/glove.6B.zip\n",
        "!unzip -qq glove.6B.zip\n"
      ],
      "id": "1tHJo_q4iYQ1"
    },
    {
      "cell_type": "code",
      "execution_count": null,
      "metadata": {
        "colab": {
          "base_uri": "https://localhost:8080/"
        },
        "id": "9f883a42",
        "outputId": "3f8063d1-100f-4559-c92c-39292734193a"
      },
      "outputs": [
        {
          "output_type": "stream",
          "name": "stdout",
          "text": [
            "loading word vectors ...\n",
            "Found 400000 word vectors.\n"
          ]
        }
      ],
      "source": [
        "# load in pre-trained word vectors\n",
        "print(\"loading word vectors ...\")\n",
        "word2vec_path = 'glove.6B.%sd.txt'\n",
        "word2vec = {}\n",
        "with open(\n",
        "    os.path.join(word2vec_path % EMBEDDING_DIM)\n",
        ") as f:\n",
        "    # is just a space-separated text file in the format:\n",
        "    # word vec[0] vec[1] vec[2]\n",
        "    for line in f:\n",
        "        values = line.split()\n",
        "        word = values[0]\n",
        "        vec = np.array(values[1:], dtype=\"float32\")\n",
        "        word2vec[word] = vec\n",
        "    print(\"Found %s word vectors.\" % len(word2vec))"
      ],
      "id": "9f883a42"
    },
    {
      "cell_type": "code",
      "execution_count": null,
      "metadata": {
        "colab": {
          "base_uri": "https://localhost:8080/"
        },
        "id": "909b1ede",
        "outputId": "deae2ff9-e8a4-44d4-991e-5d5a46dbf869"
      },
      "outputs": [
        {
          "output_type": "stream",
          "name": "stdout",
          "text": [
            "Filling pre-trained embeddings...\n"
          ]
        }
      ],
      "source": [
        "# prepare embedding matrix\n",
        "print(\"Filling pre-trained embeddings...\")\n",
        "num_words = min(MAX_NUM_WORDS, len(word2idx_eng))\n",
        "embedding_matrix = np.zeros((num_words, EMBEDDING_DIM))\n",
        "for word, i in word2idx_eng.items():\n",
        "    embedding_vector = word2vec.get(word)\n",
        "    if embedding_vector is not None:\n",
        "        # words not found in embedding index will be all zeros\n",
        "        embedding_matrix[i] = embedding_vector"
      ],
      "id": "909b1ede"
    },
    {
      "cell_type": "markdown",
      "source": [
        "# Dataset Interface"
      ],
      "metadata": {
        "id": "KxJEIFut4MwO"
      },
      "id": "KxJEIFut4MwO"
    },
    {
      "cell_type": "code",
      "execution_count": null,
      "metadata": {
        "id": "ztbQeQKNinPI"
      },
      "outputs": [],
      "source": [
        "# build data set\n",
        "class TwitterDatset(data.Dataset):\n",
        "    def __init__(self, max_len_input, max_len_target,input_sequences, target_sequences, target_sequences_inputs):\n",
        "        self.max_len_input = max_len_input\n",
        "        self.max_len_target = max_len_target\n",
        "        self.input_sequences = input_sequences\n",
        "        self.target_sequences = target_sequences\n",
        "        self.target_sequences_inputs = target_sequences_inputs\n",
        "\n",
        "    def __len__(self):\n",
        "        return len(self.input_sequences)\n",
        "\n",
        "    def pad_input(self, sequence):\n",
        "        max_len = self.max_len_input\n",
        "        sequence_len = len(sequence)\n",
        "        if sequence_len >= max_len:\n",
        "            sequence = sequence[:max_len]\n",
        "        else:\n",
        "            sequence = [0] * (max_len - sequence_len) + sequence\n",
        "        \n",
        "        return sequence\n",
        "\n",
        "    def pad_target(self, sequence):\n",
        "        max_len = self.max_len_target\n",
        "        sequence_len = len(sequence)\n",
        "        if sequence_len >= max_len:\n",
        "            sequence = sequence[:max_len]\n",
        "        else:\n",
        "            sequence = sequence + [0] * (max_len - sequence_len)  \n",
        "        return sequence\n",
        "\n",
        "\n",
        "    def __getitem__(self, idx):\n",
        "        \n",
        "        encoder_in = self.pad_input(self.input_sequences[idx])\n",
        "        decoder_in = self.pad_target(self.target_sequences_inputs[idx])\n",
        "        decoder_out = self.pad_target(self.target_sequences[idx])\n",
        "\n",
        "        encoder_in = torch.LongTensor(encoder_in)\n",
        "        decoder_in = torch.LongTensor(decoder_in)\n",
        "        decoder_out = torch.FloatTensor(decoder_out)\n",
        "\n",
        "    \n",
        "        return encoder_in, decoder_in, decoder_out\n"
      ],
      "id": "ztbQeQKNinPI"
    },
    {
      "cell_type": "markdown",
      "source": [
        "# Dataset Setup "
      ],
      "metadata": {
        "id": "bRE-BIwG4X_r"
      },
      "id": "bRE-BIwG4X_r"
    },
    {
      "cell_type": "code",
      "execution_count": null,
      "metadata": {
        "id": "b00baa7c"
      },
      "outputs": [],
      "source": [
        "#twitter_dataset = TwitterDatset(max_len_input, max_len_target, input_sequences, target_sequences, target_sequences_inputs)\n",
        "\n",
        "train_dataset = TwitterDatset(max_len_input, max_len_target, input_sequences_train, target_sequences_train, target_sequences_train_inputs)\n",
        "test_dataset = TwitterDatset(max_len_input, max_len_target, input_sequences_test, target_sequences_test, target_sequences_test_inputs)"
      ],
      "id": "b00baa7c"
    },
    {
      "cell_type": "code",
      "execution_count": null,
      "metadata": {
        "id": "911971a7"
      },
      "outputs": [],
      "source": [
        "# data_loader = torch.utils.data.DataLoader(\n",
        "#     dataset=twitter_dataset,\n",
        "#     shuffle=True,\n",
        "#     batch_size=BATCH_SIZE)\n",
        "\n",
        "\n",
        "train_loader = torch.utils.data.DataLoader(\n",
        "    dataset=train_dataset,\n",
        "    shuffle=True,\n",
        "    batch_size=BATCH_SIZE)\n",
        "\n",
        "test_loader = torch.utils.data.DataLoader(\n",
        "    dataset=test_dataset,\n",
        "    shuffle=False,\n",
        "    batch_size=BATCH_SIZE)"
      ],
      "id": "911971a7"
    },
    {
      "cell_type": "code",
      "execution_count": null,
      "metadata": {
        "id": "386f5aad"
      },
      "outputs": [],
      "source": [
        "# load pre-trained word embeddings into an embedding layer\n",
        "# freeze the layer\n",
        "embedding_layer = nn.Embedding(num_words, EMBEDDING_DIM)  # vocab size  # embedding dim\n",
        "embedding_layer.weight = nn.Parameter(torch.from_numpy(embedding_matrix).float())\n",
        "embedding_layer.requires_grad = False\n"
      ],
      "id": "386f5aad"
    },
    {
      "cell_type": "markdown",
      "source": [
        "# Models"
      ],
      "metadata": {
        "id": "4DslDCen4atP"
      },
      "id": "4DslDCen4atP"
    },
    {
      "cell_type": "code",
      "execution_count": null,
      "metadata": {
        "id": "de69bbe7"
      },
      "outputs": [],
      "source": [
        "# some configuration\n",
        "# EMBEDDING_DIM = 100\n",
        "# LATENT_DIM = 256\n",
        "# T encoder = 4\n",
        "class Encoder(nn.Module):\n",
        "    def __init__(self, input_size,embedding_size, hidden_size, num_layers, p):\n",
        "        super(Encoder, self).__init__()\n",
        "        self.dropout = nn.Dropout(p)\n",
        "        self.hidden_size = hidden_size # LATENT_DIM\n",
        "        self.num_layers = num_layers # 1 or 2\n",
        "\n",
        "        self.embedding = embedding_layer # vocab size x EMBEDDING_DIM\n",
        "        self.rnn = nn.LSTM(embedding_size, hidden_size, num_layers, bidirectional=True)#, dropout=p) # -> T x N x 2*hidden\n",
        "\n",
        "        self.fc_hidden = nn.Linear(hidden_size*2, hidden_size)\n",
        "        self.fc_cell = nn.Linear(hidden_size*2, hidden_size)\n",
        "        \n",
        "    def forward(self, x):\n",
        "        # x shape: (N, T encoder) where N is batch size\n",
        "\n",
        "        embedding = self.dropout(self.embedding(x)) # (T encoder, N, EMBEDDING_DIM)\n",
        "        # embedding shape: # (T encoder, N, EMBEDDING_DIM)\n",
        "\n",
        "        encoder_states, (hidden, cell) = self.rnn(embedding)\n",
        "        #  encoder_states shape:  (T encoder *num_layers , N, 2*hidden_size) \n",
        "        # hidden, cell : (2*num_layers, N, hidden_size) bidirectional = True\n",
        "        \n",
        "        hidden = self.fc_hidden(torch.cat((hidden[0:1], hidden[1:2]), dim=2))\n",
        "        cell = self.fc_cell(torch.cat((cell[0:1], cell[1:2]), dim=2))\n",
        "        # now : hidden, cell : (num_layers, N, hidden_size) \n",
        "        \n",
        "        return encoder_states, hidden, cell\n",
        "    "
      ],
      "id": "de69bbe7"
    },
    {
      "cell_type": "code",
      "execution_count": null,
      "metadata": {
        "id": "42daaf60"
      },
      "outputs": [],
      "source": [
        "class Decoder(nn.Module):\n",
        "    def __init__(\n",
        "        self, input_size, embedding_size, hidden_size, output_size, num_layers, p\n",
        "    ):\n",
        "        super(Decoder, self).__init__()\n",
        "        self.dropout = nn.Dropout(p)\n",
        "        self.hidden_size = hidden_size # LATENT_DIM\n",
        "        self.num_layers = num_layers  # 1 or 2\n",
        " \n",
        "        self.embedding = nn.Embedding(input_size, embedding_size) # input size = vocab fr size = num_words_output\n",
        "        self.rnn = nn.LSTM(hidden_size*2 + embedding_size, hidden_size, num_layers)#), dropout=p) \n",
        "        # -> T decoder x N x hidden\n",
        "       \n",
        "        self.energy = nn.Linear(hidden_size*3,1)\n",
        "        self.softmax = nn.Softmax(dim=0)\n",
        "        self.relu = nn.ReLU()\n",
        "        self.fc = nn.Linear(hidden_size, output_size) # ->  T x N x output size\n",
        "\n",
        "        \n",
        "        \n",
        "    def forward(self, x, encoder_states, hidden, cell):\n",
        "        # x shape: (N) where N is for batch size, we want it to be (N, 1), seq_length\n",
        "        # is 1 here because we are sending in a single word and not a sentence\n",
        "        x = x.unsqueeze(0) # -> (1, N)\n",
        "\n",
        "        embedding = self.dropout(self.embedding(x))\n",
        "        # embedding shape: (1, N, embedding_size)\n",
        "\n",
        "        sequence_length = encoder_states.shape[0]\n",
        "        h_reshaped = hidden.repeat(sequence_length, 1, 1)\n",
        "        # (sequence_length * num_layers, N, hidden_size)\n",
        "            \n",
        "        energy = self.relu(self.energy(torch.cat((h_reshaped, encoder_states), dim=2)))\n",
        "        # -> (sequence_length, N, 1)\n",
        "        attention = self.softmax(energy) \n",
        "        #(sequence_length, N, 1)\n",
        "        attention = attention.permute(1,2,0)\n",
        "        #(N, 1, sequence_length)\n",
        "        encoder_states = encoder_states.permute(1,0,2)\n",
        "        #(N, T, 2*hidden)\n",
        "            \n",
        "        context_vector = torch.bmm(attention, encoder_states).permute(1,0,2)\n",
        "        # (N, 1, 2*hidden) -> (1, N, 2*hidden)\n",
        "        \n",
        "        rnn_input = torch.cat((context_vector, embedding), dim=2)\n",
        "        # rnn_input: (1, N, hidden_size*2 + embedding_size)\n",
        "        \n",
        "        outputs, (hidden, cell) = self.rnn(rnn_input, (hidden, cell))\n",
        "        # (1, N, 2*hidden + embedding_size) ->(1, N,  hidden)\n",
        "        # outputs shape: (1, N,  hidden)\n",
        "        # hidden, cell: (1, N,  hidden)\n",
        "\n",
        "        predictions = self.fc(outputs)\n",
        "        # -> (1, N, output_size)\n",
        "\n",
        "        # predictions shape: (N, length_target_vocabulary) to send it to\n",
        "        # loss function we want it to be (N, length_target_vocabulary) so we're\n",
        "        # just gonna remove the first dim\n",
        "        predictions = predictions.squeeze(0)\n",
        "\n",
        "        return predictions, hidden, cell\n",
        "        # \n"
      ],
      "id": "42daaf60"
    },
    {
      "cell_type": "code",
      "execution_count": null,
      "metadata": {
        "id": "a1c131bc"
      },
      "outputs": [],
      "source": [
        "class Seq2Seq(nn.Module):\n",
        "    def __init__(self, encoder, decoder, teacher_force_ratio=1):\n",
        "        super(Seq2Seq, self).__init__()\n",
        "        self.encoder = encoder\n",
        "        self.decoder = decoder\n",
        "        self.teacher_force_ratio = teacher_force_ratio\n",
        "\n",
        "    def forward(self, source, target):\n",
        "        # source = encoder_inputs\n",
        "        # target = encoder_inputs\n",
        "        batch_size = source.shape[1] # source (T_encoder, N)\n",
        "        target_len = target.shape[0] # target (T_decoder, N)\n",
        "        target_vocab_size = len(word2idx_eng) # check this is correct num_words = len(word2idx_outputs) + 1 \n",
        "\n",
        "        outputs = torch.zeros(target_len, batch_size, target_vocab_size).to(device) # (T_decoder, N, vocab)\n",
        "\n",
        "        encoder_states, hidden, cell = self.encoder(source) # (num_layers, N, hidden_size) \n",
        "\n",
        "        # Grab the first input to the Decoder which will be <SOS> token\n",
        "        x = target[0] # (1, N)\n",
        "        outputs[-1] = word2idx_eng[eos] * torch.ones(batch_size, target_vocab_size).to(device)\n",
        "\n",
        "        for t in range(1, target_len):\n",
        "            # Use previous hidden, cell as context from encoder at start\n",
        "            #hidden, cell = hidden.squeeze(1), cell.squeeze(1)\n",
        "            output, hidden, cell = self.decoder(x, encoder_states, hidden, cell)\n",
        "\n",
        "            # Store next output prediction\n",
        "            outputs[t-1] = output\n",
        "\n",
        "            # Get the best word the Decoder predicted (index in the vocabulary)\n",
        "            best_guess = output.argmax(1)\n",
        "\n",
        "            # With probability of teacher_force_ratio we take the actual next word\n",
        "            # otherwise we take the word that the Decoder predicted it to be.\n",
        "            # Teacher Forcing is used so that the model gets used to seeing\n",
        "            # similar inputs at training and testing time, if teacher forcing is 1\n",
        "            # then inputs at test time might be completely different than what the\n",
        "            # network is used to. This was a long comment.\n",
        "            x = target[t] if random.random() < self.teacher_force_ratio else best_guess\n",
        "\n",
        "        return outputs\n"
      ],
      "id": "a1c131bc"
    },
    {
      "cell_type": "markdown",
      "source": [
        "# Training setup"
      ],
      "metadata": {
        "id": "15qtNvRt4f4a"
      },
      "id": "15qtNvRt4f4a"
    },
    {
      "cell_type": "code",
      "execution_count": null,
      "metadata": {
        "colab": {
          "base_uri": "https://localhost:8080/"
        },
        "id": "SOPPAA3ONpiC",
        "outputId": "28d6e05f-b64e-418e-8852-c082892e503c"
      },
      "outputs": [
        {
          "output_type": "stream",
          "name": "stdout",
          "text": [
            "device: cuda\n"
          ]
        }
      ],
      "source": [
        "device = torch.device(\"cuda\" if torch.cuda.is_available() else \"cpu\")\n",
        "print(\"device:\", device)"
      ],
      "id": "SOPPAA3ONpiC"
    },
    {
      "cell_type": "code",
      "execution_count": null,
      "metadata": {
        "id": "53741ff1"
      },
      "outputs": [],
      "source": [
        "input_size_encoder = num_words\n",
        "input_size_decoder = num_words\n",
        "output_size = num_words\n",
        "encoder_embedding_size = EMBEDDING_DIM\n",
        "decoder_embedding_size = EMBEDDING_DIM\n",
        "hidden_size = LATENT_DIM  # Needs to be the same for both RNN's\n",
        "num_layers = 1\n",
        "enc_dropout = 0.5\n",
        "dec_dropout = 0.5\n",
        "teacher_force_ratio = 0.5\n",
        "# Training hyperparameters\n",
        "num_epochs = 300\n",
        "learning_rate = 0.001\n",
        "batch_size = 64"
      ],
      "id": "53741ff1"
    },
    {
      "cell_type": "code",
      "execution_count": null,
      "metadata": {
        "id": "eee8a8b2"
      },
      "outputs": [],
      "source": [
        "encoder_net = Encoder(\n",
        "    input_size_encoder, encoder_embedding_size, hidden_size, num_layers, enc_dropout\n",
        ").to(device)\n",
        "\n",
        "decoder_net = Decoder(\n",
        "    input_size_decoder,\n",
        "    decoder_embedding_size,\n",
        "    hidden_size,\n",
        "    output_size,\n",
        "    num_layers,\n",
        "    dec_dropout,\n",
        ").to(device)"
      ],
      "id": "eee8a8b2"
    },
    {
      "cell_type": "code",
      "execution_count": null,
      "metadata": {
        "id": "eeb0e2d8"
      },
      "outputs": [],
      "source": [
        "model = Seq2Seq(encoder_net, decoder_net, teacher_force_ratio).to(device)"
      ],
      "id": "eeb0e2d8"
    },
    {
      "cell_type": "code",
      "execution_count": null,
      "metadata": {
        "id": "d049655b-7944-4832-bdc6-51bdc5090fe1"
      },
      "outputs": [],
      "source": [
        "model = torch.load('./twitter_chatbot.pth')"
      ],
      "id": "d049655b-7944-4832-bdc6-51bdc5090fe1"
    },
    {
      "cell_type": "code",
      "execution_count": null,
      "metadata": {
        "colab": {
          "base_uri": "https://localhost:8080/"
        },
        "id": "75ddda6f",
        "outputId": "e892d26c-b2aa-49df-bd99-c01ff937797f"
      },
      "outputs": [
        {
          "output_type": "execute_result",
          "data": {
            "text/plain": [
              "Seq2Seq(\n",
              "  (encoder): Encoder(\n",
              "    (dropout): Dropout(p=0.5, inplace=False)\n",
              "    (embedding): Embedding(9575, 200)\n",
              "    (rnn): LSTM(200, 512, bidirectional=True)\n",
              "    (fc_hidden): Linear(in_features=1024, out_features=512, bias=True)\n",
              "    (fc_cell): Linear(in_features=1024, out_features=512, bias=True)\n",
              "  )\n",
              "  (decoder): Decoder(\n",
              "    (dropout): Dropout(p=0.5, inplace=False)\n",
              "    (embedding): Embedding(9575, 200)\n",
              "    (rnn): LSTM(1224, 512)\n",
              "    (energy): Linear(in_features=1536, out_features=1, bias=True)\n",
              "    (softmax): Softmax(dim=0)\n",
              "    (relu): ReLU()\n",
              "    (fc): Linear(in_features=512, out_features=9575, bias=True)\n",
              "  )\n",
              ")"
            ]
          },
          "metadata": {},
          "execution_count": 36
        }
      ],
      "source": [
        "# loss and optimizer \n",
        "criterion = nn.CrossEntropyLoss()\n",
        "optimizer = torch.optim.Adam(model.parameters(), lr=learning_rate)#, weight_decay=1e-3)\n",
        "model.train()"
      ],
      "id": "75ddda6f"
    },
    {
      "cell_type": "markdown",
      "source": [
        "# Train loop"
      ],
      "metadata": {
        "id": "n_DSCRfZ4jiD"
      },
      "id": "n_DSCRfZ4jiD"
    },
    {
      "cell_type": "code",
      "execution_count": null,
      "metadata": {
        "colab": {
          "base_uri": "https://localhost:8080/"
        },
        "id": "3323154a",
        "outputId": "e35788b9-617c-4b1c-bba3-1fff006a0f90"
      },
      "outputs": [
        {
          "output_type": "stream",
          "name": "stdout",
          "text": [
            "[Epoch 1 / 100]\n",
            "Train Loss: 2.889, Test Loss: 2.251\n",
            "[Epoch 2 / 100]\n",
            "Train Loss: 2.864, Test Loss: 2.534\n",
            "[Epoch 3 / 100]\n",
            "Train Loss: 2.880, Test Loss: 2.204\n",
            "[Epoch 4 / 100]\n",
            "Train Loss: 2.360, Test Loss: 2.185\n",
            "[Epoch 5 / 100]\n",
            "Train Loss: 1.958, Test Loss: 2.112\n",
            "[Epoch 6 / 100]\n",
            "Train Loss: 1.738, Test Loss: 2.099\n",
            "[Epoch 7 / 100]\n",
            "Train Loss: 1.592, Test Loss: 2.296\n",
            "[Epoch 8 / 100]\n",
            "Train Loss: 2.394, Test Loss: 2.099\n",
            "[Epoch 9 / 100]\n",
            "Train Loss: 3.012, Test Loss: 2.214\n",
            "[Epoch 10 / 100]\n",
            "Train Loss: 2.220, Test Loss: 2.165\n",
            "[Epoch 11 / 100]\n",
            "Train Loss: 2.260, Test Loss: 2.227\n",
            "[Epoch 12 / 100]\n",
            "Train Loss: 1.948, Test Loss: 2.191\n",
            "[Epoch 13 / 100]\n",
            "Train Loss: 1.730, Test Loss: 2.246\n",
            "[Epoch 14 / 100]\n",
            "Train Loss: 2.288, Test Loss: 2.237\n",
            "[Epoch 15 / 100]\n",
            "Train Loss: 2.454, Test Loss: 2.250\n",
            "[Epoch 16 / 100]\n",
            "Train Loss: 1.978, Test Loss: 2.178\n",
            "[Epoch 17 / 100]\n",
            "Train Loss: 2.637, Test Loss: 2.265\n",
            "[Epoch 18 / 100]\n",
            "Train Loss: 1.898, Test Loss: 2.166\n",
            "[Epoch 19 / 100]\n",
            "Train Loss: 1.148, Test Loss: 2.288\n",
            "[Epoch 20 / 100]\n",
            "Train Loss: 1.794, Test Loss: 2.284\n",
            "[Epoch 21 / 100]\n",
            "Train Loss: 2.614, Test Loss: 2.237\n",
            "[Epoch 22 / 100]\n",
            "Train Loss: 1.941, Test Loss: 2.278\n",
            "[Epoch 23 / 100]\n",
            "Train Loss: 2.399, Test Loss: 2.264\n",
            "[Epoch 24 / 100]\n",
            "Train Loss: 1.121, Test Loss: 2.277\n",
            "[Epoch 25 / 100]\n",
            "Train Loss: 2.106, Test Loss: 2.377\n",
            "[Epoch 26 / 100]\n",
            "Train Loss: 1.591, Test Loss: 2.277\n",
            "[Epoch 27 / 100]\n",
            "Train Loss: 1.559, Test Loss: 2.408\n",
            "[Epoch 28 / 100]\n",
            "Train Loss: 1.698, Test Loss: 2.464\n",
            "[Epoch 29 / 100]\n",
            "Train Loss: 1.699, Test Loss: 2.363\n",
            "[Epoch 30 / 100]\n",
            "Train Loss: 1.839, Test Loss: 2.231\n",
            "[Epoch 31 / 100]\n",
            "Train Loss: 1.511, Test Loss: 2.370\n",
            "[Epoch 32 / 100]\n",
            "Train Loss: 1.954, Test Loss: 2.246\n",
            "[Epoch 33 / 100]\n",
            "Train Loss: 1.195, Test Loss: 2.337\n",
            "[Epoch 34 / 100]\n",
            "Train Loss: 1.335, Test Loss: 2.282\n",
            "[Epoch 35 / 100]\n",
            "Train Loss: 1.608, Test Loss: 2.373\n",
            "[Epoch 36 / 100]\n",
            "Train Loss: 1.850, Test Loss: 2.410\n",
            "[Epoch 37 / 100]\n",
            "Train Loss: 1.387, Test Loss: 2.400\n",
            "[Epoch 38 / 100]\n",
            "Train Loss: 1.701, Test Loss: 2.527\n",
            "[Epoch 39 / 100]\n",
            "Train Loss: 1.239, Test Loss: 2.668\n",
            "[Epoch 40 / 100]\n",
            "Train Loss: 0.933, Test Loss: 2.381\n",
            "[Epoch 41 / 100]\n",
            "Train Loss: 1.510, Test Loss: 2.443\n",
            "[Epoch 42 / 100]\n",
            "Train Loss: 1.333, Test Loss: 2.570\n",
            "[Epoch 43 / 100]\n",
            "Train Loss: 1.466, Test Loss: 2.418\n",
            "[Epoch 44 / 100]\n",
            "Train Loss: 1.723, Test Loss: 2.648\n",
            "[Epoch 45 / 100]\n",
            "Train Loss: 1.085, Test Loss: 2.680\n",
            "[Epoch 46 / 100]\n",
            "Train Loss: 0.857, Test Loss: 2.822\n",
            "[Epoch 47 / 100]\n",
            "Train Loss: 1.051, Test Loss: 2.498\n",
            "[Epoch 48 / 100]\n",
            "Train Loss: 1.196, Test Loss: 2.655\n",
            "[Epoch 49 / 100]\n",
            "Train Loss: 0.670, Test Loss: 2.795\n",
            "[Epoch 50 / 100]\n",
            "Train Loss: 0.944, Test Loss: 2.604\n",
            "[Epoch 51 / 100]\n",
            "Train Loss: 1.266, Test Loss: 2.593\n",
            "[Epoch 52 / 100]\n",
            "Train Loss: 1.219, Test Loss: 2.770\n",
            "[Epoch 53 / 100]\n",
            "Train Loss: 0.598, Test Loss: 2.755\n",
            "[Epoch 54 / 100]\n",
            "Train Loss: 1.078, Test Loss: 2.828\n",
            "[Epoch 55 / 100]\n",
            "Train Loss: 1.258, Test Loss: 2.965\n",
            "[Epoch 56 / 100]\n",
            "Train Loss: 0.704, Test Loss: 2.624\n",
            "[Epoch 57 / 100]\n",
            "Train Loss: 0.734, Test Loss: 2.863\n",
            "[Epoch 58 / 100]\n",
            "Train Loss: 1.258, Test Loss: 2.844\n",
            "[Epoch 59 / 100]\n",
            "Train Loss: 0.935, Test Loss: 3.067\n",
            "[Epoch 60 / 100]\n",
            "Train Loss: 1.036, Test Loss: 2.818\n",
            "[Epoch 61 / 100]\n",
            "Train Loss: 0.549, Test Loss: 2.755\n",
            "[Epoch 62 / 100]\n",
            "Train Loss: 1.007, Test Loss: 2.883\n",
            "[Epoch 63 / 100]\n",
            "Train Loss: 0.796, Test Loss: 2.822\n",
            "[Epoch 64 / 100]\n",
            "Train Loss: 0.485, Test Loss: 2.849\n",
            "[Epoch 65 / 100]\n",
            "Train Loss: 0.414, Test Loss: 3.163\n",
            "[Epoch 66 / 100]\n",
            "Train Loss: 0.829, Test Loss: 2.985\n",
            "[Epoch 67 / 100]\n",
            "Train Loss: 1.225, Test Loss: 3.073\n",
            "[Epoch 68 / 100]\n",
            "Train Loss: 0.770, Test Loss: 3.191\n",
            "[Epoch 69 / 100]\n",
            "Train Loss: 0.499, Test Loss: 2.844\n",
            "[Epoch 70 / 100]\n",
            "Train Loss: 0.653, Test Loss: 2.921\n",
            "[Epoch 71 / 100]\n",
            "Train Loss: 0.468, Test Loss: 2.930\n",
            "[Epoch 72 / 100]\n",
            "Train Loss: 0.465, Test Loss: 3.027\n",
            "[Epoch 73 / 100]\n",
            "Train Loss: 0.876, Test Loss: 3.092\n",
            "[Epoch 74 / 100]\n",
            "Train Loss: 0.567, Test Loss: 3.060\n",
            "[Epoch 75 / 100]\n",
            "Train Loss: 0.429, Test Loss: 3.184\n",
            "[Epoch 76 / 100]\n",
            "Train Loss: 0.560, Test Loss: 3.589\n",
            "[Epoch 77 / 100]\n",
            "Train Loss: 0.430, Test Loss: 3.270\n",
            "[Epoch 78 / 100]\n",
            "Train Loss: 0.617, Test Loss: 3.106\n",
            "[Epoch 79 / 100]\n",
            "Train Loss: 0.400, Test Loss: 3.217\n",
            "[Epoch 80 / 100]\n",
            "Train Loss: 0.919, Test Loss: 3.251\n",
            "[Epoch 81 / 100]\n",
            "Train Loss: 0.346, Test Loss: 3.160\n",
            "[Epoch 82 / 100]\n",
            "Train Loss: 0.896, Test Loss: 3.009\n",
            "[Epoch 83 / 100]\n",
            "Train Loss: 0.380, Test Loss: 3.142\n",
            "[Epoch 84 / 100]\n",
            "Train Loss: 0.428, Test Loss: 3.457\n",
            "[Epoch 85 / 100]\n",
            "Train Loss: 0.571, Test Loss: 3.314\n",
            "[Epoch 86 / 100]\n",
            "Train Loss: 0.524, Test Loss: 3.347\n",
            "[Epoch 87 / 100]\n",
            "Train Loss: 0.500, Test Loss: 3.379\n",
            "[Epoch 88 / 100]\n",
            "Train Loss: 0.458, Test Loss: 3.477\n",
            "[Epoch 89 / 100]\n",
            "Train Loss: 0.370, Test Loss: 3.312\n",
            "[Epoch 90 / 100]\n",
            "Train Loss: 0.408, Test Loss: 3.289\n",
            "[Epoch 91 / 100]\n",
            "Train Loss: 0.344, Test Loss: 3.340\n",
            "[Epoch 92 / 100]\n",
            "Train Loss: 0.311, Test Loss: 3.249\n",
            "[Epoch 93 / 100]\n",
            "Train Loss: 0.443, Test Loss: 3.209\n",
            "[Epoch 94 / 100]\n",
            "Train Loss: 0.317, Test Loss: 3.544\n",
            "[Epoch 95 / 100]\n",
            "Train Loss: 0.469, Test Loss: 3.391\n",
            "[Epoch 96 / 100]\n",
            "Train Loss: 0.358, Test Loss: 3.514\n",
            "[Epoch 97 / 100]\n",
            "Train Loss: 0.329, Test Loss: 3.730\n",
            "[Epoch 98 / 100]\n",
            "Train Loss: 0.398, Test Loss: 3.384\n",
            "[Epoch 99 / 100]\n",
            "Train Loss: 0.383, Test Loss: 3.401\n",
            "[Epoch 100 / 100]\n",
            "Train Loss: 0.266, Test Loss: 3.634\n"
          ]
        }
      ],
      "source": [
        "num_epochs = 100\n",
        "\n",
        "train_losses = np.zeros(num_epochs)\n",
        "test_losses = np.zeros(num_epochs)\n",
        "\n",
        "for epoch in range(num_epochs):\n",
        "    print(f\"[Epoch {epoch+1} / {num_epochs}]\")\n",
        "\n",
        "    model.train()\n",
        "    for batch_idx, batch in enumerate(train_loader):\n",
        "        train_loss = []\n",
        "        # Get input and targets and get to cuda\n",
        "        # encoder_in, decoder_in, decoder_out\n",
        "        encoder_in, decoder_in, target = batch\n",
        "        encoder_in, decoder_in, target = encoder_in.to(device), decoder_in.to(device), target.to(device)\n",
        "        encoder_in, decoder_in, target = encoder_in.permute(1,0), decoder_in.permute(1,0), target.permute(1,0)\n",
        "\n",
        "        # Forward prop\n",
        "        output = model(encoder_in, decoder_in)\n",
        "\n",
        "        # Output is of shape (batch_size, trg_len, output_dim) but Cross Entropy Loss\n",
        "        # doesn't take input in that form. For example if we have MNIST we want to have\n",
        "        # output to be: (N, 10) and targets just (N). Here we can view it in a similar\n",
        "        # way that we have batch_size * output_words that we want to send in into\n",
        "        # our cost function, so we need to do some reshapin. While we're at it\n",
        "        # Let's also remove the start token while we're at it\n",
        "        #output = output[1:].reshape(-1, output.shape[2])\n",
        "        #target = target[1:].reshape(-1)\n",
        "        output = output.reshape(-1, output.shape[2])\n",
        "        target = target.reshape(-1)\n",
        "        \n",
        "        optimizer.zero_grad()\n",
        "        loss = criterion(output, target.long())\n",
        "\n",
        "        # Back prop\n",
        "        loss.backward()\n",
        "\n",
        "        # Clip to avoid exploding gradient issues, makes sure grads are\n",
        "        # within a healthy range\n",
        "        torch.nn.utils.clip_grad_norm_(model.parameters(), max_norm=1)\n",
        "\n",
        "        # Gradient descent step\n",
        "        optimizer.step()\n",
        "        train_loss.append(loss.item())\n",
        "    \n",
        "    model.eval()\n",
        "    for batch_idx, batch in enumerate(test_loader):\n",
        "        test_loss = []\n",
        "        # Get input and targets and get to cuda\n",
        "        # encoder_in, decoder_in, decoder_out\n",
        "        encoder_in, decoder_in, target = batch\n",
        "        encoder_in, decoder_in, target = encoder_in.to(device), decoder_in.to(device), target.to(device)\n",
        "        encoder_in, decoder_in, target = encoder_in.permute(1,0), decoder_in.permute(1,0), target.permute(1,0)\n",
        "  \n",
        "        # Forward prop\n",
        "        output = model(encoder_in, decoder_in)\n",
        "\n",
        "        output = output.reshape(-1, output.shape[2])\n",
        "        target = target.reshape(-1)\n",
        "        loss = criterion(output, target.long())\n",
        "        test_loss.append(loss.item())\n",
        "    \n",
        "    epoch_train_loss = np.mean(train_loss)           \n",
        "    train_losses[epoch] = epoch_train_loss\n",
        "\n",
        "    epoch_test_loss = np.mean(test_loss)           \n",
        "    test_losses[epoch] = epoch_test_loss\n",
        "\n",
        "    print(f'Train Loss: {epoch_train_loss:.3f}, Test Loss: {epoch_test_loss:.3f}')\n",
        "\n",
        "\n"
      ],
      "id": "3323154a"
    },
    {
      "cell_type": "markdown",
      "source": [
        "# Loss and Evaluation"
      ],
      "metadata": {
        "id": "rYg_Hgz34n5K"
      },
      "id": "rYg_Hgz34n5K"
    },
    {
      "cell_type": "code",
      "execution_count": null,
      "metadata": {
        "colab": {
          "base_uri": "https://localhost:8080/",
          "height": 265
        },
        "id": "2280fd65-c6bd-4fa0-adf1-96c4ffaa1efe",
        "outputId": "d2131653-39a7-4bbc-d587-0de874d83d19"
      },
      "outputs": [
        {
          "output_type": "display_data",
          "data": {
            "text/plain": [
              "<Figure size 432x288 with 1 Axes>"
            ],
            "image/png": "[encoded data removed]"
          },
          "metadata": {
            "needs_background": "light"
          }
        }
      ],
      "source": [
        "# some plots\n",
        "plt.plot(train_losses, label=\"train_loss\")\n",
        "plt.plot(test_losses, label=\"test_loss\")\n",
        "plt.legend()\n",
        "plt.show()"
      ],
      "id": "2280fd65-c6bd-4fa0-adf1-96c4ffaa1efe"
    },
    {
      "cell_type": "code",
      "execution_count": null,
      "metadata": {
        "id": "0bc144df"
      },
      "outputs": [],
      "source": [
        "#torch.save(model, './twitter_chatbot.pth')\n",
        "torch.save(model, os.path.join(twitter_path, f\"twitter_chatbot.pth\"))\n"
      ],
      "id": "0bc144df"
    },
    {
      "cell_type": "markdown",
      "source": [
        "# Evaluating"
      ],
      "metadata": {
        "id": "zrdl9_pf43Ao"
      },
      "id": "zrdl9_pf43Ao"
    },
    {
      "cell_type": "code",
      "execution_count": null,
      "metadata": {
        "id": "f52db17d-e806-41cf-99a2-dca07f1ae166"
      },
      "outputs": [],
      "source": [
        "softmax = nn.Softmax(dim=1)\n",
        "def decode_sequence(input_seq, mode=\"greedy\"):\n",
        "    # encode the input as state vectors.\n",
        "    input_seq = input_seq.to(device)\n",
        "    with torch.no_grad():\n",
        "        encoder_states, h, c = encoder_net(input_seq)\n",
        "\n",
        "        # generate empty target seq of length 1\n",
        "        target_seq = torch.zeros(1).int().to(device)\n",
        "\n",
        "        # populate the first character of target sequence with the start character\n",
        "        # NOTE: tokenizer lower cases all words\n",
        "        target_seq[0] = word2idx_eng[bos]\n",
        "\n",
        "        # if we get this we break\n",
        "        eos_idx = word2idx_eng[eos]\n",
        "\n",
        "        # create translation\n",
        "        output_sentence = []\n",
        "        for _ in range(max_len_target):\n",
        "            output_tokens, h, c = decoder_net(target_seq, encoder_states, h, c)\n",
        "\n",
        "            if mode == \"sample\":\n",
        "                probs = softmax(output_tokens).view(-1)\n",
        "                idx = np.random.choice(len(probs), p=probs.detach().cpu().numpy())\n",
        "\n",
        "            else:\n",
        "                # get next word\n",
        "                idx = output_tokens.argmax(1).item()\n",
        "\n",
        "            # end of sentence EOS\n",
        "            if eos_idx == idx:\n",
        "                break\n",
        "\n",
        "            word = \"\"\n",
        "            if idx > 0:\n",
        "                word = idx2word_eng[idx]\n",
        "                output_sentence.append(word)\n",
        "\n",
        "            # update the decoder input\n",
        "            # which is just the word just generated\n",
        "            target_seq[0] = idx\n",
        "            #states_value = [h, c]\n",
        "\n",
        "        return \" \".join(output_sentence)"
      ],
      "id": "f52db17d-e806-41cf-99a2-dca07f1ae166"
    },
    {
      "cell_type": "markdown",
      "source": [
        "# Answers On train set"
      ],
      "metadata": {
        "id": "hWVlXkvT47ag"
      },
      "id": "hWVlXkvT47ag"
    },
    {
      "cell_type": "code",
      "execution_count": null,
      "metadata": {
        "colab": {
          "base_uri": "https://localhost:8080/"
        },
        "id": "d55bba23-35e4-4eb0-a2d4-57c388d17104",
        "outputId": "2da40bd3-6d16-4e1d-efad-5e24989897d6"
      },
      "outputs": [
        {
          "name": "stdout",
          "output_type": "stream",
          "text": [
            "_\n",
            "Input: whoa sorry there champ my kid goes there so i was looking for updates didnt know it was a problem reply u relax\n",
            "True answer: oh i apologize not sure what s happening there right now\n",
            "Predicted: oh i apologize not sure what s happening there right now\n",
            "Continue? [Y/n]\n",
            "_\n",
            "Input: well since you re up . . . .\n",
            "True answer: lol noo who do u think i am your maid ?\n",
            "Predicted: lol noo who do u think i am your maid ?\n",
            "Continue? [Y/n]\n",
            "_\n",
            "Input: starting today any brock excuses needs to stay off my tl . he needs more time not big enough sample size or any other bullshit go elsewhere\n",
            "True answer: he plays its not for football reasons . play the other guy . find out . stay with brock lose the team . they know .\n",
            "Predicted: he plays its not for football reasons . the the guy . . find out . stay out . brock lose the team . they know they\n",
            "Continue? [Y/n]\n",
            "_\n",
            "Input: i blame trump for a lot of this tbh .\n",
            "True answer: the few who ve come into my mentions saying random ignorant shit have been trump supporters lmao\n",
            "Predicted: the few who ve come into my mentions saying random ignorant shit have been trump supporters lmao\n",
            "Continue? [Y/n]\n",
            "_\n",
            "Input: because louisville would have destroyed penn state ! !\n",
            "True answer: i wouldn t be so sure about that . louisville wouldn t stand a chance against osu mich neb wisconsin . . . . .\n",
            "Predicted: i wouldn t be so sure about that . louisville wouldn t stand a chance against osu mich neb wisconsin . . . . . .\n",
            "Continue? [Y/n]\n",
            "_\n",
            "Input: no it s not but then again i m still on season \n",
            "True answer: on top of it all that show is just weird lmao\n",
            "Predicted: on top of it all that show is just weird lmao\n",
            "Continue? [Y/n]\n",
            "_\n",
            "Input: h \n",
            "True answer: i m pooped maybe later or tomorrow\n",
            "Predicted: i m <unk> maybe later or tomorrow\n",
            "Continue? [Y/n]\n",
            "_\n",
            "Input: less then two hours of work and battery on phone\n",
            "True answer: oh dear\n",
            "Predicted: oh dear\n",
            "Continue? [Y/n]\n",
            "_\n",
            "Input: perfectly lonely\n",
            "True answer: need some company ?\n",
            "Predicted: need some company ?\n",
            "Continue? [Y/n]\n",
            "_\n",
            "Input: how many award winning dishes or tasting menus have cooked green pepper ? probably zero .\n",
            "True answer: like . . .bell pepper ? or any ?\n",
            "Predicted: like . . .bell pepper ? or any ?\n",
            "Continue? [Y/n]\n",
            "_\n",
            "Input: if she ain t foreign then she boring\n",
            "True answer: ur a fag\n",
            "Predicted: ur a fag\n",
            "Continue? [Y/n]\n",
            "_\n",
            "Input: still wide awake amp got to be up in three hours watching cher on youtube\n",
            "True answer: i m wide awake cause i m at work keeping the world safe amp saving lives lol\n",
            "Predicted: i m wide awake cause i m at work keeping the world safe amp saving lives lol\n",
            "Continue? [Y/n]n\n"
          ]
        }
      ],
      "source": [
        "encoder_net = model.encoder\n",
        "decoder_net = model.decoder\n",
        "while True:\n",
        "    # do some answering\n",
        "    i = np.random.choice(len(train_dataset))\n",
        "    input_seq, _, _ = train_dataset[i]\n",
        "    input_seq = input_seq.unsqueeze(1)\n",
        "    pred_answer = decode_sequence(input_seq, mode=\"sample\")\n",
        "    true_answer = train_targets[i]\n",
        "    print(\"_\")\n",
        "    print(\"Input:\", train_inputs[i])\n",
        "    print(\"True answer:\", true_answer)#[:-5])\n",
        "    print(\"Predicted:\", pred_answer)\n",
        "    \n",
        "\n",
        "    ans = input(\"Continue? [Y/n]\")\n",
        "    if ans and ans.lower().startswith(\"n\"):\n",
        "        break\n"
      ],
      "id": "d55bba23-35e4-4eb0-a2d4-57c388d17104"
    },
    {
      "cell_type": "markdown",
      "source": [
        "# Answers on test set"
      ],
      "metadata": {
        "id": "sV5pqgmh4-jB"
      },
      "id": "sV5pqgmh4-jB"
    },
    {
      "cell_type": "code",
      "source": [
        "while True:\n",
        "    # do some answering\n",
        "    i = np.random.choice(len(test_dataset))\n",
        "    input_seq, _, _ = test_dataset[i]\n",
        "    input_seq = input_seq.unsqueeze(1)\n",
        "    pred_answer = decode_sequence(input_seq, mode=\"sample\")\n",
        "    true_answer = test_targets[i]\n",
        "    print(\"_\")\n",
        "    print(\"Input:\", test_inputs[i])\n",
        "    print(\"True answer:\", true_answer)#[:-5])\n",
        "    print(\"Predicted:\", pred_answer)\n",
        "    \n",
        "\n",
        "    ans = input(\"Continue? [Y/n]\")\n",
        "    if ans and ans.lower().startswith(\"n\"):\n",
        "        break"
      ],
      "metadata": {
        "colab": {
          "base_uri": "https://localhost:8080/"
        },
        "id": "1_SOoB0idm8i",
        "outputId": "e2fd25ce-34d3-4b74-aee4-a5c5e9d3f0e5"
      },
      "id": "1_SOoB0idm8i",
      "execution_count": null,
      "outputs": [
        {
          "name": "stdout",
          "output_type": "stream",
          "text": [
            "_\n",
            "Input: i still need other stuff to do though\n",
            "True answer: idk quilting is time consuming af lol but a cooking class or art class or something ? i would die . it sounds so fun\n",
            "Predicted: they never get that cab\n",
            "Continue? [Y/n]\n",
            "_\n",
            "Input: and both girls with him looked like barbie dolls from wwe too idk so many unanswered questioms\n",
            "True answer: one is his wife who was a former wwe wrestler .other one i think is ultimate warriors widow\n",
            "Predicted: people thing i all lot she s me cause . do with kassouf to play with the but at a big man\n",
            "Continue? [Y/n]\n",
            "_\n",
            "Input: yes because seventeen comes after sixteen and you were born almost seventeen years ago\n",
            "True answer: lmao i still feel like a child\n",
            "Predicted: the this is why everyone while i m still there\n",
            "Continue? [Y/n]\n",
            "_\n",
            "Input: no he replied he even sent another one\n",
            "True answer: ohhhh well then\n",
            "Predicted: if . was was just !\n",
            "Continue? [Y/n]\n",
            "_\n",
            "Input: go\n",
            "True answer: it was just pudding\n",
            "Predicted: just look tomorrow thursday\n",
            "Continue? [Y/n]\n",
            "_\n",
            "Input: i m hungry too\n",
            "True answer: im just gonna starve until morning\n",
            "Predicted: me ok ok let s get a drone then lmao my s for them\n",
            "Continue? [Y/n]\n",
            "_\n",
            "Input: one of my other tweeps knows his identity . he s got an autograph signing business .\n",
            "True answer: good ! so if he follows through on his threats we know who he is . they seldom follow through but be careful .\n",
            "Predicted: wait i s not and white <unk> one who do that already seen the the young of the story of that way .\n",
            "Continue? [Y/n]\n",
            "_\n",
            "Input: the one you see wearing the most . that s the one you should take care of best .\n",
            "True answer: true . i was bummed i couldn t get the camo tee .\n",
            "Predicted: plus all of least i thought it s the magic have no show .\n",
            "Continue? [Y/n]\n",
            "_\n",
            "Input: answer me this fellow apple peoples how many times in the past year have you used the escape key ?\n",
            "True answer: about times today . terminal vim user .\n",
            "Predicted: you at least i can talk to like joe and figure a and they want to whatever a question and have\n",
            "Continue? [Y/n]\n",
            "_\n",
            "Input: the new originals season came on to netflix and it reminded me of how much i love her\n",
            "True answer: and once you catch up the new season starts in january or february on cw ! ! ! !\n",
            "Predicted: and once you catch up the new season starts in january or february on cw ! ! ! !\n",
            "Continue? [Y/n]\n",
            "_\n",
            "Input:  reisaru fics doneeeeee\n",
            "True answer: yeeeeeey o \n",
            "Predicted: so much too easy ! lol\n",
            "Continue? [Y/n]\n",
            "_\n",
            "Input: me too ! i hope it works out . i know that it s going to be hard for her to serve because she won t be respected by some .\n",
            "True answer: hillary works well with everyone . she s going to surprise a lot of people .\n",
            "Predicted: he only nobody t buy anything call .\n",
            "Continue? [Y/n]\n",
            "_\n",
            "Input: what kinda bias ? lol\n",
            "True answer: i just think he s a beautiful man haha . trainspotting good will hunting snow on tha bluff the imitation game american beauty\n",
            "Predicted: the some <unk> was still nothing to get . . . . re interesting\n",
            "Continue? [Y/n]\n",
            "_\n",
            "Input: so ready to take my hair out\n",
            "True answer: then take it out\n",
            "Predicted: i m aware\n",
            "Continue? [Y/n]\n",
            "_\n",
            "Input: i feel that way about most of my family\n",
            "True answer: the struggle is real\n",
            "Predicted: i m watching that too all of how for dedication until for the too these maybe\n",
            "Continue? [Y/n]\n",
            "_\n",
            "Input: durham bound today\n",
            "True answer: i need to make my way back to raleigh i miss it up there\n",
            "Predicted: story . <unk> .\n",
            "Continue? [Y/n]\n",
            "_\n",
            "Input:  rd question doesn t this indicate u r also corrupt amp helping ruin the democratic party ? potus wall st controlled .\n",
            "True answer: how does sending her random holiday greetings do that ? explain i am curious .\n",
            "Predicted: eh is it is much . everyone s no fear . their our people you prevail you and s that d have new\n",
            "Continue? [Y/n]\n",
            "_\n",
            "Input: that s a factor keep in mind local dr s office rejects none insured\n",
            "True answer: but i m not talking about uninsured going to er though\n",
            "Predicted: is found beautiful\n",
            "Continue? [Y/n]\n",
            "_\n",
            "Input: i m free from pm and after pm pct .\n",
            "True answer: if u get on tonight post a card and dm it to me .\n",
            "Predicted: aww . . we was !\n",
            "Continue? [Y/n]\n",
            "_\n",
            "Input: so what is future for having hella kids by different women ? lmao he aint a hoe ? but ciara is ? ok\n",
            "True answer: who said he wasn t ?\n",
            "Predicted: or really watch it amp he is is\n",
            "Continue? [Y/n]\n",
            "_\n",
            "Input: hoy tara englishan tayo ! hahahahahaha\n",
            "True answer: sure sure\n",
            "Predicted: sure sure\n",
            "Continue? [Y/n]\n",
            "_\n",
            "Input: lol it s the motherly instinct in me but frfr get you some rest so you ll feel better\n",
            "True answer: i can see it i guess i ll make a doctors appointment\n",
            "Predicted: oh yes i was my type of it amp ever\n",
            "Continue? [Y/n]\n",
            "_\n",
            "Input: you not good nigga\n",
            "True answer: lol you heard what i said mf\n",
            "Predicted: pissed\n",
            "Continue? [Y/n]\n",
            "_\n",
            "Input: always ?\n",
            "True answer: yeah i always gotta be the bad guy i m sick of it stomps the floor and crosses arms \n",
            "Predicted: for you\n",
            "Continue? [Y/n]\n",
            "_\n",
            "Input: haha what kinda chinese food do you like ?and wats look like in us ?\n",
            "True answer: we have general to chicken . which isn t even sold in china . it s good though .\n",
            "Predicted: pretty much most . shaschwan and hunan . like spice\n",
            "Continue? [Y/n]\n",
            "_\n",
            "Input: don t rip on him to hard raider brother .\n",
            "True answer: i just don t understand the logic . . . or should i say the lack of logic\n",
            "Predicted: when he one at time\n",
            "Continue? [Y/n]\n",
            "_\n",
            "Input: we hear most about sensitivity training for companies interacting with the general public hospitality healthcare etc . why not all ?\n",
            "True answer: it s not as tho marginalized ppl aren t also consumers or potential hires for companies . everyone should learn to understand inclusivity .\n",
            "Predicted: nope always should be at the draw and support apps themselves and how are you to learn someone for help ?\n",
            "Continue? [Y/n]n\n"
          ]
        }
      ]
    },
    {
      "cell_type": "markdown",
      "source": [
        "# Custom tweet answer"
      ],
      "metadata": {
        "id": "8nF1BZVz5Dr5"
      },
      "id": "8nF1BZVz5Dr5"
    },
    {
      "cell_type": "code",
      "execution_count": null,
      "metadata": {
        "id": "1U1SMnAbXAQJ"
      },
      "outputs": [],
      "source": [
        "def build_sequences_tweet(tweet, word2idx):\n",
        "    tweet_tokenized = word_tokenize(tweet)\n",
        "    tweet_seq = []\n",
        "    unk_idx = word2idx_eng[unk]\n",
        "    for word in tweet_tokenized:\n",
        "        tweet_seq.append(word2idx_eng.get(word, unk_idx))\n",
        "    \n",
        "    return tweet_seq\n"
      ],
      "id": "1U1SMnAbXAQJ"
    },
    {
      "cell_type": "code",
      "execution_count": null,
      "metadata": {
        "id": "1yMovHR4UuUu"
      },
      "outputs": [],
      "source": [
        "def answer_tweet(tweet, mode=\"greedy\"):\n",
        "    tweet_seq = build_sequences_tweet(tweet, word2idx_eng)\n",
        "    tweet_seq = torch.LongTensor(tweet_seq).unsqueeze(1)\n",
        "    return decode_sequence(tweet_seq, mode)"
      ],
      "id": "1yMovHR4UuUu"
    },
    {
      "cell_type": "code",
      "execution_count": null,
      "metadata": {
        "colab": {
          "base_uri": "https://localhost:8080/",
          "height": 35
        },
        "id": "O_b6UL7aTsnU",
        "outputId": "4028581d-9201-4af3-e082-952a03c0e192"
      },
      "outputs": [
        {
          "output_type": "execute_result",
          "data": {
            "text/plain": [
              "'what sports ?'"
            ],
            "application/vnd.google.colaboratory.intrinsic+json": {
              "type": "string"
            }
          },
          "metadata": {},
          "execution_count": 80
        }
      ],
      "source": [
        "tweet = \"im going to watch some football tonight and eat chinese\"\n",
        "answer_tweet (tweet, \"sample\")"
      ],
      "id": "O_b6UL7aTsnU"
    },
    {
      "cell_type": "code",
      "execution_count": null,
      "metadata": {
        "id": "619ca5cd-3eef-4515-932a-c9b882c22480"
      },
      "outputs": [],
      "source": [
        ""
      ],
      "id": "619ca5cd-3eef-4515-932a-c9b882c22480"
    }
  ],
  "metadata": {
    "accelerator": "GPU",
    "colab": {
      "background_execution": "on",
      "collapsed_sections": [],
      "name": "twitter-chatbot-Colab.ipynb",
      "provenance": []
    },
    "kernelspec": {
      "display_name": "Python 3 (ipykernel)",
      "language": "python",
      "name": "python3"
    },
    "language_info": {
      "codemirror_mode": {
        "name": "ipython",
        "version": 3
      },
      "file_extension": ".py",
      "mimetype": "text/x-python",
      "name": "python",
      "nbconvert_exporter": "python",
      "pygments_lexer": "ipython3",
      "version": "3.9.5"
    }
  },
  "nbformat": 4,
  "nbformat_minor": 5
}